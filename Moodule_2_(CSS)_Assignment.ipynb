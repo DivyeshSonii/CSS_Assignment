{
 "cells": [
  {
   "cell_type": "code",
   "execution_count": null,
   "id": "ac0beeec",
   "metadata": {},
   "outputs": [],
   "source": [
    "# [1] What are the benefits of using CSS?\n",
    "\n",
    "# With CSS, you can control the color, font, the size of text, the spacing between elements, how elements are positioned and \n",
    "# laid out,what background images or background colors are to be used,  different displays for different devices and screen sizes, \n",
    "# and much more!"
   ]
  },
  {
   "cell_type": "code",
   "execution_count": null,
   "id": "994fae38",
   "metadata": {},
   "outputs": [],
   "source": [
    "# [2] What are the disadvantages of CSS?\n",
    "\n",
    "# 1.Confusion due to many CSS levels. Beginners are more vulnerable to this issue. ...\n",
    "# 2.Cross-Browser Issues. Different browsers work differently. ...\n",
    "# 3.Security Issues. Security is important in today's world driven by technology and data. ...\n",
    "# 4.Extra Work for Developers."
   ]
  },
  {
   "cell_type": "code",
   "execution_count": null,
   "id": "6a52806b",
   "metadata": {},
   "outputs": [],
   "source": [
    "# [3] What is the difference between CSS2 and CSS3?\n",
    "\n",
    "# css-2=>\n",
    "\n",
    "# 1. CSS is capable of positioning texts and objects. \n",
    "# 2. Responsive designing is not supported in CSS\n",
    "# 3. CSS cannot be split into modules.\n",
    "# 4. Using CSS, we cannot build 3D animation and transformation.\n",
    "# 5. CSS is very slow as compared to CSS3\n",
    "# 6. In CSS we have set of standard colors and it uses basic color schemes only.\n",
    "# 7. In CSS we can only use single text blocks.\n",
    "# 9. CSS codes are not supported by all types of modern browsers.\n",
    "# 10. In CSS, designers have to manually develop rounded gradients and corners.\n",
    "# 11. There is no special effect like shadowing text, text animation, etc. in CSS. The animation was coded in jQuery and JavaScript.\n",
    "# 12. In CSS, the user can add background colors to list items and lists, set images for the list items, etc.\n",
    "# 13. CSS was developed in 1996.\n",
    "# 14. CSS is memory intensive.\n",
    "\n",
    "\n",
    "# css-3=>\n",
    "\n",
    "# 1. On the other hand, CSS3 is capable of making the web page more attractive and takes less time to create. CSS3 is backward compatible with CSS.\n",
    "# 2. CSS3 is the latest version, hence it supports responsive design.\n",
    "# 3. Whereas CSS3 can be breakdown into modules.\n",
    "# 4. But in CSS3 we can perform all kinds of animation and transformations as it supports animation and 3D transformations.\n",
    "# 5. Whereas CSS3 is faster than CSS.\n",
    "# 6. Whereas CSS3 has a good collection of HSL RGBA, HSLA, and gradient colors.\n",
    "# 7. But in CSS3 we can use multi-column text blocks\n",
    "# 8. But CSS3 supports media queries\n",
    "# 9. Being the latest version, CSS3 codes are supported by all modern browsers.\n",
    "# 10. But CSS3 provides advanced codes for setting rounded gradients and corners\n",
    "# 11. CSS3 has many advance features like text shadows, visual effects, and a wide range of font styles and colors.\n",
    "# 12.CSS3 has many advance features like text shadows, visual effects, and a wide range of font styles and colors.\n",
    "# 13. CSS3 is the latest version of CSS and was released in 2005.\n",
    "# 14. CSS3 memory consumption is low as compared to CSS."
   ]
  },
  {
   "cell_type": "code",
   "execution_count": null,
   "id": "fe232cd2",
   "metadata": {},
   "outputs": [],
   "source": [
    "# [4] Name a few CSS style components\n",
    "\n",
    "# Properties: These are human-readable identifiers that indicate which stylistic features you want to modify. \n",
    "# For example, font-size , width , background-color .\n",
    "\n",
    "# Values: Each property is assigned a value. This value indicates how to style the property."
   ]
  },
  {
   "cell_type": "code",
   "execution_count": null,
   "id": "9464f311",
   "metadata": {},
   "outputs": [],
   "source": [
    "# [5] What do you understand by CSS opacity?\n",
    "\n",
    "# The opacity property sets the opacity level for an element.\n",
    "\n",
    "# The opacity-level describes the transparency-level,\n",
    "# where 1 is not transparent at all, 0.5 is 50% see-through,\n",
    "# and 0 is completely transparent."
   ]
  },
  {
   "cell_type": "code",
   "execution_count": null,
   "id": "dcdd51c1",
   "metadata": {},
   "outputs": [],
   "source": [
    "# [6] How can the background color of an element be changed?\n",
    "\n",
    "# The CSS background properties are used to add background effects for elements.\n",
    "\n",
    "# In these chapters, you will learn about the following CSS background properties:\n",
    "\n",
    "# .background-color\n",
    "# .background-image\n",
    "# .background-repeat\n",
    "# .background-attachment\n",
    "# .background-position\n",
    "# .background (shorthand property)"
   ]
  },
  {
   "cell_type": "code",
   "execution_count": null,
   "id": "6b437198",
   "metadata": {},
   "outputs": [],
   "source": [
    "# [7] How can image repetition of the backup be controlled?\n",
    "\n",
    "# In this article, we will see how an image repetition of the backup is controlled in CSS. \n",
    "# This task can be achieved by using the background-repeat property that will help us to control the repetition of the image.\n",
    "\n",
    "# The background-repeat property in CSS is used to repeat the background image both horizontally and vertically. \n",
    "# It also decides whether the background image will be repeated or not.\n",
    "\n",
    "# syntax=> background-repeat: repeat|repeat-x|repeat-y|no-repeat|initial|inherit;"
   ]
  },
  {
   "cell_type": "code",
   "execution_count": null,
   "id": "e2400559",
   "metadata": {},
   "outputs": [],
   "source": [
    "# [8] What is the use of the background-position property?\n",
    "\n",
    "# The background-position property sets the starting position of a background image.\n",
    "\n",
    "# Tip: By default, a background-image is placed at the top-left corner of an element, and repeated both vertically and horizontally."
   ]
  },
  {
   "cell_type": "code",
   "execution_count": null,
   "id": "5fd3c0fb",
   "metadata": {},
   "outputs": [],
   "source": [
    "# [9] Which property controls the image scroll in the background?\n",
    "\n",
    "# The background-attachment property sets whether a background image scrolls with the rest of the page, or is fixed.Example\n",
    "# A background-image that will not scroll with the page (fixed):\n",
    "   \n",
    "# example->\n",
    "\n",
    "#   body {\n",
    "#      background-image: url(\"img_tree.gif\");\n",
    "#      background-repeat: no-repeat;\n",
    "#      background-attachment: fixed;\n",
    "#    }"
   ]
  },
  {
   "cell_type": "code",
   "execution_count": null,
   "id": "b9dbd1f7",
   "metadata": {},
   "outputs": [],
   "source": [
    "# [10] Why should background and color be used as separate properties?\n",
    "\n",
    "# The background-color property sets the background color of an element.\n",
    "# The background of an element is the total size of the element, including padding and border (but not the margin).\n",
    "\n",
    "\n",
    "# Tip: Use a background color and a text color that makes the text easy to read.\n",
    "\n",
    "# syntex=>body {background-color: coral;}"
   ]
  },
  {
   "cell_type": "code",
   "execution_count": null,
   "id": "3309dd4f",
   "metadata": {},
   "outputs": [],
   "source": [
    "# [11] How to center block elements using CSS1?\n",
    "\n",
    "# To horizontally center a block element (like <div>), use margin: auto;\n",
    "# Setting the width of the element will prevent it from stretching out to the edges of its container.\n",
    "# The element will then take up the specified width, and the remaining space will be split equally between the two margin:\n",
    "\n",
    "#   syntex=>\n",
    "#     <style>\n",
    "#         .center {\n",
    "#           margin: auto;\n",
    "#           width: 60%;\n",
    "#           border: 3px solid #73AD21;\n",
    "#           padding: 10px;\n",
    "#          }\n",
    "#     </style>"
   ]
  },
  {
   "cell_type": "code",
   "execution_count": null,
   "id": "173aa324",
   "metadata": {},
   "outputs": [],
   "source": [
    "# [12] How to maintain the CSS specifications?"
   ]
  },
  {
   "cell_type": "code",
   "execution_count": null,
   "id": "eee2b249",
   "metadata": {},
   "outputs": [],
   "source": [
    "# [13] What are the ways to integrate CSS as a web page?\n",
    "\n",
    "# Inline - by using the style attribute inside HTML elements.\n",
    "# Internal - by using a <style> element in the <head> section.\n",
    "# External - by using a <link> element to link to an external CSS file."
   ]
  },
  {
   "cell_type": "code",
   "execution_count": null,
   "id": "caf0eee4",
   "metadata": {},
   "outputs": [],
   "source": [
    "# [14] What is embedded style sheets?\n",
    "\n",
    "# Embedded Stylesheet: It allows you to define styles for a particular HTML document as a whole in one place.\n",
    "# This is done by embedding the <style></style> tags containing the CSS properties in the head of your document."
   ]
  },
  {
   "cell_type": "code",
   "execution_count": null,
   "id": "5bb84286",
   "metadata": {},
   "outputs": [],
   "source": [
    "# [15] What are the external style sheets?\n",
    "\n",
    "# With an external style sheet, you can change the look of an entire website by changing just one file!\n",
    "# Each HTML page must include a reference to the external style sheet file inside the <link> element, inside the head section."
   ]
  },
  {
   "cell_type": "code",
   "execution_count": null,
   "id": "a3df73c0",
   "metadata": {},
   "outputs": [],
   "source": [
    "# [16] What are the advantages and disadvantages of using external style sheets?\n",
    "\n",
    "# The advantages of External Style Sheets  :\n",
    "\n",
    "# 1.With the help of External Style Sheets, the styles of numerous documents can be organized from one single file.\n",
    "# 2. In External Style Sheets, Classes can be made for use on numerous HTML element types in many forms of the site.\n",
    "# 3.In complex contexts, Methods like selector and grouping can be implemented to apply styles.\n",
    "\n",
    "\n",
    "# The disadvantages of External Style Sheets are as follows :\n",
    "\n",
    "# 1.An extra download is essential to import style information for each file.\n",
    "# 2.The execution of the file may be deferred till the external style sheet is loaded.\n",
    "# 3.While implementing style sheets, we need to test Web pages with multiple browsers in order to check compatibility issues."
   ]
  },
  {
   "cell_type": "code",
   "execution_count": null,
   "id": "1f3c6c2b",
   "metadata": {},
   "outputs": [],
   "source": [
    "# [17] What is the meaning of the CSS selector?\n",
    "\n",
    "# Cascading Style Sheets (CSS) is a stylesheet language used to describe the presentation of a document written in HTML or XML \n",
    "# (including XMLdialects such as SVG, MathML or XHTML)."
   ]
  },
  {
   "cell_type": "code",
   "execution_count": null,
   "id": "209ef55d",
   "metadata": {},
   "outputs": [],
   "source": [
    "# [18] What are the media types allowed by CSS?\n",
    "\n",
    "# 1.  continuous or paged.\n",
    "# 2.visual, audio, speech, or tactile.\n",
    "# 3.grid (for character grid devices), or bitmap.\n",
    "# 4.interactive (for devices that allow user interaction), or static (for those that do not).\n",
    "# all (includes all media types)"
   ]
  },
  {
   "cell_type": "code",
   "execution_count": null,
   "id": "b0855742",
   "metadata": {},
   "outputs": [],
   "source": [
    "# [19] What is the rule set?\n",
    "\n",
    "# The selector points to the HTML element you want to style.\n",
    "# The declaration block contains one or more declarations separated by semicolons.\n",
    "# Each declaration includes a CSS property name and a value, separated by a colon.\n",
    "# Multiple CSS declarations are separated with semicolons, and declaration blocks are surrounded by curly braces."
   ]
  },
  {
   "cell_type": "code",
   "execution_count": null,
   "id": "e8d3076b",
   "metadata": {},
   "outputs": [],
   "source": [
    "# [20] Create Layouts\n",
    "\n",
    "# 1.Create a mood board. Make an inspiration collage or mood board before getting started on your own design. ...\n",
    "# 2.Match your design to your content. ...\n",
    "# 3.Turn to templates to guide yourself. ...\n",
    "# 4.Create visual contrast. ...\n",
    "# 5. Play around with typography. ...\n",
    "# 6.Embrace white space. ...\n",
    "#   Experiment with the rules."
   ]
  }
 ],
 "metadata": {
  "kernelspec": {
   "display_name": "Python 3 (ipykernel)",
   "language": "python",
   "name": "python3"
  },
  "language_info": {
   "codemirror_mode": {
    "name": "ipython",
    "version": 3
   },
   "file_extension": ".py",
   "mimetype": "text/x-python",
   "name": "python",
   "nbconvert_exporter": "python",
   "pygments_lexer": "ipython3",
   "version": "3.9.13"
  }
 },
 "nbformat": 4,
 "nbformat_minor": 5
}
